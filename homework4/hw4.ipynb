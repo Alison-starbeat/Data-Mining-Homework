{
 "cells": [
  {
   "cell_type": "markdown",
   "metadata": {},
   "source": [
    "# 基于文本的推荐系统\n",
    "## 学号：3220221155 姓名：桂梦婷\n",
    "\n",
    "### 1. 数据预处理\n",
    "数据集来源为Yelp，由于文件过大，需要采取按行读取的方式。数据集选取方式如下，首先读取20000条交互数据，然后选取包含评价超过2条的商品，取其信息和对应用户(预期用户超过100个)\n",
    "数据集地址：https://www.yelp.com/dataset"
   ]
  },
  {
   "cell_type": "code",
   "execution_count": 1,
   "metadata": {
    "collapsed": true
   },
   "outputs": [],
   "source": [
    "import json\n",
    "import random\n",
    "import time\n",
    "\n",
    "import pandas as pd\n",
    "import numpy as np\n",
    "from textblob import TextBlob\n",
    "review_path = r\"G:\\code\\data_mining\\homework3\\yelp_dataset\\yelp_academic_dataset_review.json\"\n",
    "user_path = r\"G:\\code\\data_mining\\homework3\\yelp_dataset\\yelp_academic_dataset_user.json\""
   ]
  },
  {
   "cell_type": "code",
   "execution_count": 2,
   "metadata": {},
   "outputs": [],
   "source": [
    "user_dics = []\n",
    "count = 0\n",
    "with open(review_path, 'r', encoding=\"utf-8\") as f:\n",
    "    for line in f:\n",
    "        if count > 20000:\n",
    "            break\n",
    "        temp_dic = json.loads(line)\n",
    "        user_dics.append([temp_dic[\"review_id\"],temp_dic[\"user_id\"],temp_dic[\"business_id\"],temp_dic[\"stars\"],temp_dic[\"text\"]])\n",
    "        count += 1"
   ]
  },
  {
   "cell_type": "code",
   "execution_count": 3,
   "metadata": {},
   "outputs": [
    {
     "name": "stdout",
     "output_type": "stream",
     "text": [
      "['KU_O5udG6zpxOg-VcAEodg', 'mh_-eMZ6K5RLWhZyISBhwA', 'XQfwVwDr-v0ZS3_CbbE5Xw', 3.0, \"If you decide to eat here, just be aware it is going to take about 2 hours from beginning to end. We have tried it multiple times, because I want to like it! I have been to it's other locations in NJ and never had a bad experience. \\n\\nThe food is good, but it takes a very long time to come out. The waitstaff is very young, but usually pleasant. We have just had too many experiences where we spent way too long waiting. We usually opt for another diner or restaurant on the weekends, in order to be done quicker.\"]\n"
     ]
    }
   ],
   "source": [
    "print(user_dics[0])"
   ]
  },
  {
   "cell_type": "code",
   "execution_count": 4,
   "metadata": {},
   "outputs": [],
   "source": [
    "df = pd.DataFrame(user_dics, columns=['review_id','user_id','business_id','stars','text'])\n",
    "df['review_id'] = df['review_id'].astype(np.str)\n",
    "df['user_id'] = df['user_id'].astype(np.str)\n",
    "df['business_id'] = df['business_id'].astype(np.str)\n",
    "df['stars'] = df['stars'].astype(np.int)\n",
    "df['text'] = df['text'].astype(np.str)"
   ]
  },
  {
   "cell_type": "markdown",
   "metadata": {},
   "source": [
    "可以看到已经保留了评论数不为1的数据，接下来随机选取100件商品，并在对他们的评论中挑选100条；再挑选100个用户信息中的id/useful/funny/cool三种评价的数值"
   ]
  },
  {
   "cell_type": "markdown",
   "metadata": {},
   "source": [
    "统计商品的售卖次数，可以看到选取的2w条内存在对同一条商品的评价，于是随机选取100条评价次数不为1的商品。"
   ]
  },
  {
   "cell_type": "code",
   "execution_count": 5,
   "metadata": {},
   "outputs": [],
   "source": [
    "last = 0\n",
    "count = 0\n",
    "for i in df['business_id'].value_counts():\n",
    "    if i == 1:\n",
    "        last = count\n",
    "        break\n",
    "    count += 1"
   ]
  },
  {
   "cell_type": "code",
   "execution_count": 6,
   "metadata": {},
   "outputs": [
    {
     "name": "stdout",
     "output_type": "stream",
     "text": [
      "GBTPC53ZrG1ZBY3DT8Mbcw    187\n",
      "PY9GRfzr4nTZeINf346QOw     98\n",
      "W4ZEKkva9HpAdZG88juwyQ     83\n",
      "pSmOH4a3HNNpYM82J5ycLA     82\n",
      "8uF-bhJFgT4Tn6DTb27viA     81\n",
      "                         ... \n",
      "aj_NoNaOIdTjB7Rzl7lEIA      1\n",
      "35skHdFAcUQxMYrO8ZOhkQ      1\n",
      "T91QQ82DRr7LVHFs5A0G0g      1\n",
      "jE8o7lX3NMmcG0iMlqoo7A      1\n",
      "wSrZ8Gz_pEWf96rj1KuahQ      1\n",
      "Name: business_id, Length: 5550, dtype: int64\n"
     ]
    }
   ],
   "source": [
    "print(df['business_id'].value_counts())"
   ]
  },
  {
   "cell_type": "code",
   "execution_count": 102,
   "metadata": {},
   "outputs": [
    {
     "name": "stdout",
     "output_type": "stream",
     "text": [
      "jMZ56S8Y1t7cA1Ob-d-qeA    61\n",
      "Dv6RfXLYe1atjgz3Xf4GGw    60\n",
      "Zi-F-YvyVOK0k5QD7lrLOg    53\n",
      "j8JOZvfeHEfUWq3gEz6ABQ    51\n",
      "cXSyVvOr9YRN9diDkaWs0Q    49\n",
      "                          ..\n",
      "nV9XClMRPTDWhak4FTkyyg     2\n",
      "79OfACVZ_vKmpGxBFF21KQ     2\n",
      "YtFo2Mg-tNkWHz8ZYVMDVg     2\n",
      "Derr7dcpu_BRwl8OwGQtyg     2\n",
      "O-w5EqQb8suu7BM48y6RGA     2\n",
      "Name: business_id, Length: 3020, dtype: int64\n"
     ]
    }
   ],
   "source": [
    "good_ids = df['business_id'].value_counts().index.tolist()[10:last]\n",
    "new_df = df[df[\"business_id\"].isin(good_ids)]\n",
    "print(new_df[\"business_id\"].value_counts())"
   ]
  },
  {
   "cell_type": "markdown",
   "metadata": {},
   "source": []
  },
  {
   "cell_type": "code",
   "execution_count": 136,
   "metadata": {},
   "outputs": [
    {
     "name": "stdout",
     "output_type": "stream",
     "text": [
      "                    review_id                 user_id             business_id  \\\n",
      "13234  rLU2jO_WOqLwluIwqow4iw  LGecw2xC8UiJ58rXTPb55A  ayo8K8klFo2PdQphVb6-PA   \n",
      "12635  QPVvBF7nn0zibvPJa3AIFA  8vLPLKR76VNyMENShG4-PA  lRbHFOIFuusN2WOR_ypQ_A   \n",
      "4455   _rZYnBTTfslamusQu_dm0w  ojxS1v-8nUvEEx4DlsPQrA  dSPA4yql9vUwnYRxHiVtHA   \n",
      "4244   Msb02JkfIqVIEOjR9wFYPg  3Wwf7byw8fq_ew_MA1xzzA  I2CxrvM0BGH1svfxqGGD2g   \n",
      "6991   fgaDxOrRu_XUQIt9KyF1sQ  OFGRTid-pt90P3XbFS2MDQ  dYYkzkiAQoOtRjdR0kcspw   \n",
      "...                       ...                     ...                     ...   \n",
      "2291   qXT9LQRf0j2tE-rEruWCCw  c9-jEIfBnLa4iNHxVmXAHA  V9XlikTxq0My4gE8LULsjw   \n",
      "9119   v9-u7UEuTIxxYgXky-LPlQ  wKpuRqA-f1Acf1lCZqHCMQ  SIoCIxjn4jLt2O-4DajWJw   \n",
      "13021  JI_KlJSNwrsXgNL-t38nWQ  DItVe4K10DX7VZ2JRFa-zQ  gfPDLZimZu1NtBIDbeXetg   \n",
      "7429   yITtrMJe89hkCDkc8uXdnA  UMMt4n-TXTuNHG4PbjYEgw  JJNCJWaH2KV44r9aeEBlqA   \n",
      "4269   adBykhcc02BFiOB0pev_nw  1dQiuUvvK8427TBmqj_4Vg  pRyf3q0VIMgZngyHb3Gfog   \n",
      "\n",
      "       stars                                               text  \n",
      "13234    4.0  Great honest service at a reasonable price. I ...  \n",
      "12635    5.0  This is my husband's favorite brunch place. It...  \n",
      "4455     4.0  Armed with a LivingSocial deal, we came by for...  \n",
      "4244     3.0  We have been here three times, and each time h...  \n",
      "6991     4.0  Food is awesome; better than you find in most ...  \n",
      "...      ...                                                ...  \n",
      "2291     4.0  What what???\\n\\nI've seen these all over the c...  \n",
      "9119     3.0  Delicious crab cakes, both the appetizer and t...  \n",
      "13021    5.0  My husband and I moved into the area recently ...  \n",
      "7429     4.0  Good times and great crowds at Grand Opening o...  \n",
      "4269     5.0  This little bar within peppermill is prime rea...  \n",
      "\n",
      "[100 rows x 5 columns]\n"
     ]
    }
   ],
   "source": [
    "goods = random.sample(good_ids, 100)\n",
    "final_df = df[df[\"business_id\"].isin(goods)]\n",
    "user_id_list = random.sample(final_df[\"user_id\"].value_counts().index.tolist(),100)\n",
    "final_df = final_df[final_df[\"user_id\"].isin(user_id_list)]\n",
    "final_df = final_df[final_df[\"business_id\"].isin(goods)]\n",
    "final_df = final_df.sample(n=100)\n",
    "print(final_df)"
   ]
  },
  {
   "cell_type": "markdown",
   "metadata": {},
   "source": [
    "选定了用户和商品后，接下来需要获取用户信息，并将收集的用户-商品购买信息处理成分析所需的格式。"
   ]
  },
  {
   "cell_type": "code",
   "execution_count": 137,
   "metadata": {},
   "outputs": [
    {
     "name": "stdout",
     "output_type": "stream",
     "text": [
      "100\n"
     ]
    }
   ],
   "source": [
    "# 获取用户信息，并写入dataframe中\n",
    "print(len(user_id_list))\n",
    "user_df = pd.DataFrame(columns=['user','user_id','average_stars','useful','funny','cool'])\n",
    "user_df['user'] = user_df['user'].astype(np.int32)\n",
    "user_df['user_id'] = user_df['user_id'].astype(str)\n",
    "user_df['average_stars'] = user_df['average_stars'].astype(np.float64)\n",
    "user_df['useful'] = user_df['useful'].astype(np.int32)\n",
    "user_df['funny'] = user_df['funny'].astype(np.int32)\n",
    "user_df['cool'] = user_df['cool'].astype(np.int32)\n",
    "user_info_list = []\n",
    "user_count = 0\n",
    "with open(user_path, 'r', encoding=\"utf-8\") as f:\n",
    "    for line in f:\n",
    "        temp_dic = json.loads(line)\n",
    "        if temp_dic[\"user_id\"] in user_id_list and temp_dic[\"user_id\"] not in user_df[\"user_id\"]:\n",
    "            # user user_id average_stars useful funny cool\n",
    "            user_df = user_df.append({'user':user_count,'user_id':temp_dic[\"user_id\"],'average_stars':temp_dic[\"average_stars\"],'useful':temp_dic[\"useful\"],'funny':temp_dic[\"funny\"],'cool':temp_dic[\"cool\"]},ignore_index=True)\n",
    "            user_count += 1\n",
    "        if user_count > 100:\n",
    "            break\n",
    "# user_df = pd.DataFrame(user_info_list, columns=['user','user_id','average_stars','useful','funny','cool'])"
   ]
  },
  {
   "cell_type": "markdown",
   "metadata": {},
   "source": [
    "下面建立user_item_dict，即通过new_df中item和user的对应关系写入字典，此处user/item都已使用数字id代替"
   ]
  },
  {
   "cell_type": "code",
   "execution_count": 138,
   "metadata": {},
   "outputs": [
    {
     "name": "stdout",
     "output_type": "stream",
     "text": [
      "    user                 user_id  average_stars  useful  funny  cool\n",
      "0      0  ojxS1v-8nUvEEx4DlsPQrA           3.69     621    124   290\n",
      "1      1  c9-jEIfBnLa4iNHxVmXAHA           3.57    1662   1496  1074\n",
      "2      2  wKpuRqA-f1Acf1lCZqHCMQ           3.82     180     26    43\n",
      "3      3  0mYNAVDIzW4fzgAQ5opGWg           4.08     387    162   209\n",
      "4      4  cogPv5baWhsR-_Dcw3-Taw           3.97     663    135   405\n",
      "..   ...                     ...            ...     ...    ...   ...\n",
      "95    95  NCcbAu7z_LXbS_wIG4Yz4A           4.40       3      1     3\n",
      "96    96  vPaMWZvn56dnhYldPZywXw           2.44      10      4     1\n",
      "97    97  u2AMLoOVIxA5kbsS3USu_w           2.24       1      0     0\n",
      "98    98  5sNTr2q4QPAsvf51-WeT8g           5.00       1      0     1\n",
      "99    99  C6jbdotgp_a7ATQ2qhomZw           4.00       8      3     0\n",
      "\n",
      "[100 rows x 6 columns]\n"
     ]
    }
   ],
   "source": [
    "print(user_df)"
   ]
  },
  {
   "cell_type": "code",
   "execution_count": 139,
   "metadata": {},
   "outputs": [
    {
     "name": "stdout",
     "output_type": "stream",
     "text": [
      "100\n",
      "100\n",
      "0\n"
     ]
    }
   ],
   "source": [
    "print(len(list(set(user_df[\"user_id\"]))))\n",
    "print(len(list(set(final_df[\"user_id\"]))))\n",
    "# print(len(user_df[user_df[\"user_id\"].isin(final_df[\"user_id\"])]))\n",
    "print(len(list(set(final_df[\"user_id\"]) - set(user_df[\"user_id\"]))))"
   ]
  },
  {
   "cell_type": "code",
   "execution_count": 140,
   "metadata": {},
   "outputs": [
    {
     "name": "stdout",
     "output_type": "stream",
     "text": [
      "    item                 item_id\n",
      "0      0  ayo8K8klFo2PdQphVb6-PA\n",
      "1      1  lRbHFOIFuusN2WOR_ypQ_A\n",
      "2      2  dSPA4yql9vUwnYRxHiVtHA\n",
      "3      3  I2CxrvM0BGH1svfxqGGD2g\n",
      "4      4  dYYkzkiAQoOtRjdR0kcspw\n",
      "..   ...                     ...\n",
      "56    56  IOroNIZhOtGM9nWMT3PaNA\n",
      "57    57  xt1wRm1Ti-P6cF2rAY1_XA\n",
      "58    58  8zo6B_ZylluQcC3Pi8FP3w\n",
      "59    59  TB1FQ3iO9KJWOU56sA7Ozw\n",
      "60    60  pRyf3q0VIMgZngyHb3Gfog\n",
      "\n",
      "[61 rows x 2 columns]\n"
     ]
    }
   ],
   "source": [
    "# user_平均评分，avg_stars\n",
    "user_score_avg_list = list(user_df[\"average_stars\"])\n",
    "# user_item对应的词典\n",
    "user_item_dict = {}\n",
    "item_df = pd.DataFrame(columns=[\"item\",\"item_id\"])\n",
    "item_df['item'] = item_df['item'].astype(np.int32)\n",
    "item_df['item_id'] = item_df['item_id'].astype(str)\n",
    "id_count = 0\n",
    "for line in range(len(final_df)):\n",
    "    uid = user_df[user_df[\"user_id\"] == final_df.iloc[line][\"user_id\"]][\"user\"].values[0]\n",
    "    iid = final_df.iloc[line][\"business_id\"]\n",
    "    if uid not in user_item_dict:\n",
    "        if item_df is not None and iid not in list(item_df[\"item_id\"]):\n",
    "            user_item_dict[uid] = [id_count]\n",
    "            item_df = item_df.append({\"item\":id_count,\"item_id\":iid},ignore_index=True)\n",
    "            id_count += 1\n",
    "        else:\n",
    "            user_item_dict[uid] = [item_df[item_df[\"item_id\"]  == final_df.iloc[line][\"business_id\"]][\"item\"].values[0]]\n",
    "    else:\n",
    "        if item_df is not None and iid not in list(item_df[\"item_id\"]):\n",
    "            user_item_dict[uid].append([id_count])\n",
    "            item_df = item_df.append({\"item\":id_count,\"item_id\":iid},ignore_index=True)\n",
    "            id_count += 1\n",
    "        else:\n",
    "            user_item_dict[uid].append([item_df[item_df[\"item_id\"]  == final_df.iloc[line][\"business_id\"]][\"item\"].values[0]])\n",
    "print(item_df)"
   ]
  },
  {
   "cell_type": "markdown",
   "metadata": {},
   "source": [
    "在步骤1中，获得了100件商品和100个用户，除了用户购买商品的100条记录（包含评论和评分）外，还有用户总评价数量（分别包含funny / cool / useful）。接下来将定义关联规则，为用户推荐商品。"
   ]
  },
  {
   "cell_type": "markdown",
   "metadata": {},
   "source": [
    "### 2. 关联规则定义\n",
    "根据常识定义以下规则:\n",
    "1)用户的评论如果情感倾向为负面，则用户不喜欢该商品；反之，如果用户评论情感倾向为正面，则用户喜欢该商品。\n",
    "2)如果用户评论情感倾向性并不是很明显，则观察其评分，如果评分有明显的倾向，则将其归类；若评分中庸，则倾向于用户不喜欢该商品。\n",
    "3)如果用户评论的情感倾向和评分的倾向截然相反，即存在“高分低评”、“低分高评”的现象，则统一归为用户不推荐该商品。\n",
    "4)用户总评价数量分布相似的用户，其偏好可能相似。\n",
    "\n",
    "#### 2.1情感极性分析方法\n",
    "情感极性分析方法采用textblob包，该工具可以用于英文文本情感分析，输入一个句子，输出其情感极性值。如果正面情感大于0.6，则认为用户喜欢该商品；如果负面情感小于-0.6，则认为用户不喜欢该商品；其余得分状况下，观察用户的评分倾向，在倾向相同的情况下，如果是1-3分，则认为用户不推荐该商品；如果是4-5分，则认为用户推荐该商品。若倾向不同，则认为用户不推荐该商品。"
   ]
  },
  {
   "cell_type": "code",
   "execution_count": 185,
   "metadata": {},
   "outputs": [],
   "source": [
    "user_item_arr = [[0 for i in range(0,100)] for i in range(0,100)]\n",
    "# ['review_id','user_id','business_id','stars','text']\n",
    "for line in range(len(item_df)):\n",
    "    text = final_df.iloc[line][\"text\"]\n",
    "    blob = TextBlob(text)\n",
    "    #获取情感极性值\n",
    "    sentiment = blob.sentiment.polarity\n",
    "    right_pair = sentiment * (final_df.iloc[line][\"stars\"] - 2.5)\n",
    "    # 如果对应正确，-1-1缩放到0-5\n",
    "    final_score = (final_df.iloc[line][\"stars\"] + (sentiment+1)/2*5)/2\n",
    "    # 获取用户和物品的id\n",
    "    uid = user_df[user_df[\"user_id\"] == final_df.iloc[line][\"user_id\"]][\"user\"].values[0]\n",
    "    iid = item_df[item_df[\"item_id\"] == final_df.iloc[line][\"business_id\"]][\"item\"].values[0]\n",
    "    user_item_arr[uid][iid] = final_score\n",
    "user_item_mat = user_item_arr"
   ]
  },
  {
   "cell_type": "markdown",
   "metadata": {},
   "source": [
    "#### 2.2 用户相似度矩阵构成\n",
    "前面提到设置的关联规则中，具有相似评论分布的用户是相似的，实现方法为使用评论分布作为用户向量，按照向量的相似程度规定用户和用户的相似分数。\n",
    "首先在user所属的DataFrame中，添加一列user_no，记录user_id和user_no的对应关系。\n",
    "然后计算每个user的用户向量, 归一化后，根据该向量生成用户相似度矩阵"
   ]
  },
  {
   "cell_type": "code",
   "execution_count": 220,
   "metadata": {},
   "outputs": [
    {
     "name": "stdout",
     "output_type": "stream",
     "text": [
      "0.999997938641606\n"
     ]
    }
   ],
   "source": [
    "import numpy as np\n",
    "import time\n",
    "# user user_id average_stars useful funny cool\n",
    "user_no_df = user_df.copy()\n",
    "user_vec_list = []\n",
    "for line in range(len(user_no_df)):\n",
    "    temp_vec = [user_no_df.iloc[line][\"funny\"], user_no_df.iloc[line][\"cool\"], user_no_df.iloc[line][\"useful\"]]\n",
    "    all_vec = sum([i*i for i in temp_vec])\n",
    "    if all_vec == 0:\n",
    "        final_vec = [0,0,0]\n",
    "    else:\n",
    "        final_vec = [int(temp_vec[0])*1.0/all_vec,int(temp_vec[1])*1.0/all_vec,int(temp_vec[2])*1.0/all_vec]\n",
    "    user_vec_list.append(final_vec)\n",
    "user_vec_array = np.array(user_vec_list)\n",
    "user_vec_matrix = np.mat(user_vec_array)\n",
    "user_sim_matrix = 1 - user_vec_matrix * user_vec_matrix.T\n",
    "user_sim_matrix = user_sim_matrix.tolist()\n",
    "print(user_sim_matrix[0][0])"
   ]
  },
  {
   "cell_type": "markdown",
   "metadata": {},
   "source": [
    "### 3. 用户 - 物品推荐\n",
    "获取了用户相似度矩阵，和用户购买商品的矩阵后，采用基于用户的协同过滤方法为用户推荐商品。\n",
    "对于每个用户，首先寻找相似用户（距离最近的用户）；其次，计算推荐值。\n",
    "为此定义函数find_sim_users，输入为用户user_id，最大相似数目max_num, 输出为相似用户词典：该词典的key为相似用户id，value为词典，包含score（用户相似度分数），item（该用户购买的物品）\n",
    "定义函数find_pred_items，输入为用户user_id, 用户相似用户和购买商品，输出为字典：key为物品id，value为推荐倾向得分。"
   ]
  },
  {
   "cell_type": "code",
   "execution_count": 226,
   "metadata": {},
   "outputs": [],
   "source": [
    "def find_sim_users(user_id, max_num):\n",
    "    sim_users_dic = {}\n",
    "    for i in range(len(user_sim_matrix[user_id])):\n",
    "        if i == user_id:\n",
    "            continue\n",
    "        else:\n",
    "            sim_users_dic[i] = user_sim_matrix[user_id][i]\n",
    "    # 排序后的tuple\n",
    "    s_tuple = sorted(sim_users_dic.items(), key=lambda x: x[1], reverse=True)\n",
    "    count = 0\n",
    "    sim_item_dic = {}\n",
    "    for sim_user_id, sim_score in enumerate(s_tuple):\n",
    "        # item去掉user_id对应用户购买过的商品\n",
    "        sim_item_dic[sim_user_id] = {\"score\": sim_score,\n",
    "                                     \"items\": list(set(user_item_dict[sim_user_id]) - set(user_item_dict[user_id]))}\n",
    "        count += 1\n",
    "        if count >= max_num:\n",
    "            break\n",
    "    return sim_item_dic"
   ]
  },
  {
   "cell_type": "code",
   "execution_count": 231,
   "metadata": {},
   "outputs": [],
   "source": [
    "def find_pred_items(user_id, sim_item_dic):\n",
    "    item_pred_dic = {}\n",
    "    # 遍历sim_item_dic，计算推荐度\n",
    "    for users, user_info in sim_item_dic.items():\n",
    "        for now_item in user_info[\"items\"]:\n",
    "            if now_item not in item_pred_dic:\n",
    "                # 开始计算\n",
    "                temp_score = 0\n",
    "                temp_users = []\n",
    "                for users2, user_info2 in sim_item_dic.items():\n",
    "                    if now_item in user_info2[\"items\"]:\n",
    "                        temp_users.append(users2)\n",
    "                sim_sum = sum([user_sim_matrix[user_id][i] for i in temp_users])\n",
    "                sim_weight = sum(\n",
    "                    [user_sim_matrix[user_id][i] * (user_item_mat[i][now_item] - user_score_avg_list[user_id]) for i in\n",
    "                     temp_users])\n",
    "                temp_score = user_score_avg_list[user_id] + sim_weight / sim_sum\n",
    "                item_pred_dic[now_item] = temp_score\n",
    "    return item_pred_dic\n",
    "\n",
    "\n",
    "pred_item_dic = {}\n",
    "for user in range(0, len(user_df)):\n",
    "    sim_users = find_sim_users(user, 5)\n",
    "    pred_items = find_pred_items(user, sim_users)\n",
    "    pred_item_dic[user] = pred_items"
   ]
  },
  {
   "cell_type": "markdown",
   "metadata": {},
   "source": [
    "计算完推荐度后，可以呈现预测结果。"
   ]
  },
  {
   "cell_type": "code",
   "execution_count": 232,
   "metadata": {},
   "outputs": [
    {
     "name": "stdout",
     "output_type": "stream",
     "text": [
      "{0: {29: 0.0, 6: 1.410667864798866, 27: 0.0}, 1: {2: 3.492424242424242, 6: 1.4106653644369893, 27: 0.0}, 2: {2: 3.492424242424242, 29: 0.0, 27: 0.0}, 3: {2: 3.492424242424242, 29: 0.0, 27: 0.0}, 4: {2: 3.492424242424242, 29: 0.0, 6: 1.4106673634161573}, 5: {2: 3.492424242424242, 29: 0.0, 6: 1.4106649895829575, 27: 0.0}, 6: {2: 3.492424242424242, 29: 0.0, 6: 1.4107028017501015, 27: 0.0}, 7: {2: 3.492424242424242, 29: 0.0, 6: 1.4107024099436116, 27: 0.0}, 8: {2: 3.492424242424242, 29: 0.0, 6: 1.410670343945988, 27: 0.0}, 9: {2: 3.492424242424242, 29: 0.0, 6: 1.4106921431085104, 27: 0.0}, 10: {2: 3.492424242424242, 29: -4.440892098500626e-16, 27: 0.0}, 11: {2: 3.492424242424242, 29: 0.0, 6: 1.4108225067789157, 27: 0.0}, 12: {2: 3.492424242424242, 29: 0.0, 6: 1.4106729295302385, 27: 0.0}, 13: {2: 3.492424242424242, 29: 0.0, 6: 1.4106656576434262, 27: 0.0}, 14: {2: 3.492424242424242, 29: 0.0, 6: 1.4107471218433663, 27: 0.0}, 15: {2: 3.492424242424242, 29: 0.0, 6: 1.4106648238850164, 27: 0.0}, 16: {2: 3.492424242424242, 29: 0.0, 6: 1.410713419566152, 27: 0.0}, 17: {2: 3.492424242424242, 29: 0.0, 6: 1.4106699783990735, 27: 0.0}, 18: {29: 0.0, 6: 1.4107442780546444, 27: 0.0}, 19: {2: 3.492424242424242, 29: 0.0, 6: 1.4106654888577275, 27: 0.0}, 20: {2: 3.492424242424242, 29: 0.0, 6: 1.410678539898948, 27: 0.0}, 21: {2: 3.492424242424242, 29: 0.0, 6: 1.4106667523006404, 27: 0.0}, 22: {2: 3.492424242424242, 29: 0.0, 6: 1.4106677243301227, 27: -8.881784197001252e-16}, 23: {2: 3.492424242424242, 29: 0.0, 6: 1.4107192514503106, 27: 0.0}, 24: {2: 3.492424242424242, 29: 0.0, 6: 1.4107313867183322, 27: 0.0}, 25: {2: 3.492424242424242, 29: 0.0, 6: 1.4106814935651544, 27: 0.0}, 26: {2: 3.492424242424242, 29: 0.0, 6: 1.4106776036646158, 27: 0.0}, 27: {2: 3.492424242424242, 29: 0.0, 6: 1.4107927326299499, 27: 0.0}, 28: {2: 3.492424242424242, 29: 0.0, 6: 1.4107603169366723, 27: 0.0}, 29: {2: 3.492424242424242, 29: 0.0, 6: 1.4106712554273613, 27: 0.0}, 30: {2: 3.492424242424242, 29: 0.0, 6: 1.4107945466075362, 27: 0.0}, 31: {2: 3.492424242424242, 29: 0.0, 6: 1.4106762000885107, 27: 0.0}, 32: {2: 3.492424242424242, 29: 0.0, 6: 1.410752708065497, 27: 0.0}, 33: {2: 3.492424242424242, 29: 0.0, 6: 1.4116628601023904, 27: 0.0}, 34: {2: 3.492424242424242, 29: 0.0, 6: 1.4106836926564545, 27: 0.0}, 35: {2: 3.492424242424242, 29: 0.0, 6: 1.4106739523431258, 27: 0.0}, 36: {2: 3.492424242424242, 29: 8.881784197001252e-16, 27: 0.0}, 37: {2: 3.492424242424242, 29: 8.881784197001252e-16, 6: 1.4110219322334876, 27: 0.0}, 38: {2: 3.492424242424242, 29: 0.0, 6: 1.4130657260155974, 27: -8.881784197001252e-16}, 39: {2: 3.492424242424242, 29: 0.0, 6: 1.4116242447953695, 27: 0.0}, 40: {2: 3.492424242424242, 29: 0.0, 6: 1.4106846792145182, 27: 0.0}, 41: {2: 3.492424242424242, 29: 0.0, 6: 1.4107119992671617, 27: 0.0}, 42: {2: 3.492424242424242, 29: 0.0, 6: 1.41076407550681, 27: 0.0}, 43: {2: 3.492424242424242, 29: 0.0, 6: 1.4106804112633844, 27: 0.0}, 44: {2: 3.492424242424242, 29: 0.0, 6: 1.4106704632390086, 27: 0.0}, 45: {2: 3.492424242424242, 29: 0.0, 6: 1.4110582624284018, 27: 0.0}, 46: {2: 3.492424242424242, 29: 0.0, 6: 1.4106646825396822, 27: 0.0}, 47: {2: 3.492424242424242, 29: 0.0, 6: 1.4107199105869497, 27: 0.0}, 48: {2: 3.492424242424242, 29: 0.0, 6: 1.4107265768778494, 27: 0.0}, 49: {2: 3.492424242424242, 29: 0.0, 6: 1.4106894919376942, 27: 0.0}, 50: {2: 3.492424242424242, 29: 0.0, 6: 1.4106969710974213, 27: 0.0}, 51: {2: 3.492424242424242, 29: 0.0, 6: 1.4106787727504753}, 52: {2: 3.492424242424242, 29: 0.0, 6: 1.4106708121170417, 27: 0.0}, 53: {2: 3.492424242424242, 29: 0.0, 6: 1.4107881633982546, 27: 0.0}, 54: {2: 3.492424242424242, 29: 0.0, 6: 1.4106646825396825, 27: 0.0}, 55: {2: 3.492424242424242, 29: 0.0, 6: 1.410736050401127, 27: 0.0}, 56: {2: 3.492424242424242, 29: 0.0, 6: 1.4107169683830594}, 57: {2: 3.492424242424242, 29: 0.0, 6: 1.4115312559732152, 27: 0.0}, 58: {2: 3.492424242424242, 29: 0.0, 6: 1.4108768146919903, 27: 0.0}, 59: {2: 3.492424242424242, 29: 0.0, 6: 1.4107043722677548, 27: 0.0}, 60: {2: 3.492424242424242, 29: 0.0, 6: 1.410724375944701, 27: 0.0}, 61: {2: 3.492424242424242, 29: 0.0, 6: 1.4108672847584867, 27: 0.0}, 62: {2: 3.492424242424242, 29: 0.0, 6: 1.4106696680806685, 27: 0.0}, 63: {2: 3.492424242424242, 29: 0.0, 6: 1.410700787062265, 27: 0.0}, 64: {2: 3.492424242424242, 29: 0.0, 6: 1.4113363932074137, 27: 0.0}, 65: {2: 3.492424242424242, 29: 0.0, 6: 1.4106962411881496, 27: 0.0}, 66: {2: 3.492424242424242, 29: 0.0, 6: 1.4106646825396822, 27: 0.0}, 67: {2: 3.492424242424242, 29: 0.0, 6: 1.410889711622402, 27: 0.0}, 68: {2: 3.492424242424242, 29: 0.0, 6: 1.4112284567987676, 27: 0.0}, 69: {2: 3.492424242424242, 29: 0.0, 6: 1.4114030927883006, 27: 0.0}, 70: {2: 3.492424242424242, 29: 0.0, 6: 1.4106998431347773, 27: 0.0}, 71: {2: 3.492424242424242, 29: 0.0, 6: 1.4108726734969865, 27: 0.0}, 72: {2: 3.492424242424242, 29: 0.0, 6: 1.4107095181657021, 27: 0.0}, 73: {2: 3.492424242424242, 29: 0.0, 6: 1.411024799120045, 27: 0.0}, 74: {2: 3.492424242424242, 29: 0.0, 6: 1.4107324908836643, 27: 0.0}, 75: {2: 3.492424242424242, 29: 0.0, 6: 1.4106646825396822, 27: 0.0}, 76: {2: 3.492424242424242, 29: 0.0, 6: 1.410694982290271, 27: 0.0}, 77: {2: 3.492424242424242, 29: 0.0, 6: 1.4109639045351023, 27: -4.440892098500626e-16}, 78: {2: 3.492424242424242, 29: 0.0, 6: 1.4118631251484226, 27: 0.0}, 79: {2: 3.492424242424242, 29: 0.0, 6: 1.4106646825396825, 27: 0.0}, 80: {2: 3.492424242424242, 29: 0.0, 6: 1.4130657260155979, 27: 0.0}, 81: {2: 3.492424242424242, 29: 0.0, 6: 1.4107011657527142, 27: 0.0}, 82: {2: 3.492424242424242, 29: 0.0, 6: 1.410773246725589, 27: 0.0}, 83: {2: 3.492424242424242, 29: 0.0, 6: 1.4108151928342711, 27: 0.0}, 84: {2: 3.492424242424242, 29: 0.0, 6: 1.4110066716597043, 27: 0.0}, 85: {2: 3.492424242424242, 29: 0.0, 6: 1.4109415677404815, 27: 0.0}, 86: {2: 3.492424242424242, 29: 0.0, 6: 1.4110240425304692, 27: 0.0}, 87: {2: 3.492424242424242, 29: 0.0, 6: 1.4109657767523038, 27: 0.0}, 88: {2: 3.492424242424242, 29: 0.0, 6: 1.4106646825396822, 27: 0.0}, 89: {2: 3.492424242424242, 29: 0.0, 6: 1.411000351441384, 27: 0.0}, 90: {2: 3.492424242424242, 29: 0.0, 6: 1.4106713987044235, 27: 0.0}, 91: {2: 3.492424242424242, 29: 0.0, 6: 1.4108122291111025, 27: 0.0}, 92: {2: 3.492424242424242, 29: 0.0, 6: 1.4109079840908474, 27: 0.0}, 93: {2: 3.492424242424242, 29: 0.0, 6: 1.4106646825396822, 27: 0.0}, 94: {2: 3.492424242424242, 29: 0.0, 6: 1.411624244795369, 27: 0.0}, 95: {2: 3.492424242424242, 29: 0.0, 6: 1.411074226613247, 27: 0.0}, 96: {2: 3.492424242424242, 29: 0.0, 6: 1.410871116118805, 27: 0.0}, 97: {2: 3.492424242424242, 29: 0.0, 6: 1.4130657260155979, 27: 0.0}, 98: {2: 3.492424242424242, 29: -8.881784197001252e-16, 6: 1.4119627120795166, 27: 0.0}, 99: {2: 3.492424242424242, 6: 1.4109272129758135, 27: 0.0}}\n"
     ]
    }
   ],
   "source": [
    "print(pred_item_dic)"
   ]
  },
  {
   "cell_type": "code",
   "execution_count": null,
   "metadata": {},
   "outputs": [],
   "source": []
  }
 ],
 "metadata": {
  "kernelspec": {
   "display_name": "Python 3 (ipykernel)",
   "language": "python",
   "name": "python3"
  },
  "language_info": {
   "codemirror_mode": {
    "name": "ipython",
    "version": 3
   },
   "file_extension": ".py",
   "mimetype": "text/x-python",
   "name": "python",
   "nbconvert_exporter": "python",
   "pygments_lexer": "ipython3",
   "version": "3.8.1"
  }
 },
 "nbformat": 4,
 "nbformat_minor": 1
}
